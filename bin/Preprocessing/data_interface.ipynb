{
 "cells": [
  {
   "cell_type": "code",
   "execution_count": null,
   "metadata": {},
   "outputs": [],
   "source": [
    "# Link to github repo:\n",
    "\n",
    "import os\n",
    "import json\n",
    "import datetime\n",
    "import csv\n",
    "\n",
    "import pandas as pd\n",
    "import gzip\n",
    "\n",
    "'''\n",
    "%load_ext lab_black\n",
    "%matplotlib inline\n",
    "'''\n",
    "%load_ext autoreload\n",
    "%autoreload 2\n",
    "\n",
    "import sys\n",
    "sys.path.append(\"../../\")\n",
    "\n",
    "\n",
    "from data_io import File_IO, Database_IO\n",
    "from data_wrangling import  Data_Wrangling\n",
    "from data_summarization import Data_Summarization\n",
    "from setup_config import Setup_Config"
   ]
  },
  {
   "cell_type": "code",
   "execution_count": null,
   "metadata": {},
   "outputs": [],
   "source": []
  }
 ],
 "metadata": {
  "language_info": {
   "name": "python"
  },
  "orig_nbformat": 4
 },
 "nbformat": 4,
 "nbformat_minor": 2
}
