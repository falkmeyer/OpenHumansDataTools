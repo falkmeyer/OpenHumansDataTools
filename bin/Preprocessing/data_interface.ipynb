{
 "cells": [
  {
   "cell_type": "code",
   "execution_count": 33,
   "metadata": {},
   "outputs": [
    {
     "name": "stdout",
     "output_type": "stream",
     "text": [
      "The autoreload extension is already loaded. To reload it, use:\n",
      "  %reload_ext autoreload\n"
     ]
    }
   ],
   "source": [
    "# Link to github repo:\n",
    "\n",
    "import os\n",
    "import json\n",
    "import datetime\n",
    "import csv\n",
    "\n",
    "import pandas as pd\n",
    "import gzip\n",
    "\n",
    "'''\n",
    "%load_ext lab_black\n",
    "%matplotlib inline\n",
    "'''\n",
    "%load_ext autoreload\n",
    "%autoreload 2\n",
    "\n",
    "import sys\n",
    "sys.path.append(\"../../\")\n",
    "\n",
    "from data_io import File_IO, Database_IO\n",
    "from data_wrangling import  Data_Wrangling\n",
    "from data_summarization import Data_Summarization\n",
    "from setup_config import Setup_Config"
   ]
  },
  {
   "cell_type": "code",
   "execution_count": 34,
   "metadata": {},
   "outputs": [
    {
     "name": "stdout",
     "output_type": "stream",
     "text": [
      "Connected to the database. List of schemes: ['information_schema', 'public']\n"
     ]
    }
   ],
   "source": [
    "setup = Setup_Config('config.ini') # loads a setup file with variables in .ini format\n",
    "\n",
    "file_io = File_IO()\n",
    "\n",
    "# if db not usage not wished, unccoment temporarly\n",
    "database_io = Database_IO(\n",
    "    host_ip=setup.config.db.host_ip, \n",
    "    port=setup.config.db.port, \n",
    "    db_user=setup.config.db.db_user, \n",
    "    db_pw=setup.config.db.db_pw, \n",
    "    db_name=setup.config.db.db_name) # use default postgres db"
   ]
  },
  {
   "attachments": {},
   "cell_type": "markdown",
   "metadata": {},
   "source": [
    "### 0.  Get overview of all tables and Materialized Views"
   ]
  },
  {
   "cell_type": "code",
   "execution_count": null,
   "metadata": {},
   "outputs": [],
   "source": [
    "# show all tables in schema\n",
    "sql_query = \"SELECT TABLE_NAME FROM INFORMATION_SCHEMA.TABLES WHERE TABLE_SCHEMA = 'public'\"\n",
    "tabls_overview = database_io.query_data(sql_query)\n",
    "tabls_overview"
   ]
  },
  {
   "cell_type": "code",
   "execution_count": null,
   "metadata": {},
   "outputs": [],
   "source": [
    "# show all materialized views in schema\n",
    "sql_query = \"SELECT * FROM pg_matviews WHERE schemaname = 'public';\"\n",
    "tabls_overview = database_io.query_data(sql_query)\n",
    "tabls_overview"
   ]
  },
  {
   "attachments": {},
   "cell_type": "markdown",
   "metadata": {},
   "source": [
    "### 1. Get overview over Variables (Materialized View)\n",
    "(Access Materialized View for that)"
   ]
  },
  {
   "cell_type": "code",
   "execution_count": null,
   "metadata": {},
   "outputs": [],
   "source": [
    "sql_query = \"select * from open_summary_path;\"\n",
    "variable_summary_frame = database_io.query_data(sql_query)\n",
    "variable_summary_frame"
   ]
  },
  {
   "attachments": {},
   "cell_type": "markdown",
   "metadata": {},
   "source": [
    "### 2. Get Data from table"
   ]
  },
  {
   "cell_type": "code",
   "execution_count": 37,
   "metadata": {},
   "outputs": [
    {
     "data": {
      "text/html": [
       "<div>\n",
       "<style scoped>\n",
       "    .dataframe tbody tr th:only-of-type {\n",
       "        vertical-align: middle;\n",
       "    }\n",
       "\n",
       "    .dataframe tbody tr th {\n",
       "        vertical-align: top;\n",
       "    }\n",
       "\n",
       "    .dataframe thead th {\n",
       "        text-align: right;\n",
       "    }\n",
       "</style>\n",
       "<table border=\"1\" class=\"dataframe\">\n",
       "  <thead>\n",
       "    <tr style=\"text-align: right;\">\n",
       "      <th></th>\n",
       "      <th>path</th>\n",
       "      <th>value</th>\n",
       "      <th>value_str</th>\n",
       "      <th>starttime</th>\n",
       "      <th>startdate</th>\n",
       "      <th>duration</th>\n",
       "      <th>isValid</th>\n",
       "      <th>timeasseconds</th>\n",
       "      <th>patient_id</th>\n",
       "    </tr>\n",
       "  </thead>\n",
       "  <tbody>\n",
       "    <tr>\n",
       "      <th>0</th>\n",
       "      <td>treatments.structureversion</td>\n",
       "      <td>1.00</td>\n",
       "      <td>nan</td>\n",
       "      <td>2020-10-12 07:11:59.742</td>\n",
       "      <td>None</td>\n",
       "      <td>None</td>\n",
       "      <td>False</td>\n",
       "      <td>None</td>\n",
       "      <td>19067168.0</td>\n",
       "    </tr>\n",
       "    <tr>\n",
       "      <th>1</th>\n",
       "      <td>treatments.source</td>\n",
       "      <td>1.00</td>\n",
       "      <td>nan</td>\n",
       "      <td>2020-10-12 07:11:59.742</td>\n",
       "      <td>None</td>\n",
       "      <td>None</td>\n",
       "      <td>False</td>\n",
       "      <td>None</td>\n",
       "      <td>19067168.0</td>\n",
       "    </tr>\n",
       "    <tr>\n",
       "      <th>2</th>\n",
       "      <td>treatments.carbs</td>\n",
       "      <td>0.00</td>\n",
       "      <td>nan</td>\n",
       "      <td>2020-10-12 07:11:59.742</td>\n",
       "      <td>None</td>\n",
       "      <td>None</td>\n",
       "      <td>False</td>\n",
       "      <td>None</td>\n",
       "      <td>19067168.0</td>\n",
       "    </tr>\n",
       "    <tr>\n",
       "      <th>3</th>\n",
       "      <td>treatments.dia</td>\n",
       "      <td>5.00</td>\n",
       "      <td>nan</td>\n",
       "      <td>2020-10-12 07:11:59.742</td>\n",
       "      <td>None</td>\n",
       "      <td>None</td>\n",
       "      <td>False</td>\n",
       "      <td>None</td>\n",
       "      <td>19067168.0</td>\n",
       "    </tr>\n",
       "    <tr>\n",
       "      <th>4</th>\n",
       "      <td>treatments.insulin</td>\n",
       "      <td>0.05</td>\n",
       "      <td>nan</td>\n",
       "      <td>2020-10-12 07:11:59.742</td>\n",
       "      <td>None</td>\n",
       "      <td>None</td>\n",
       "      <td>False</td>\n",
       "      <td>None</td>\n",
       "      <td>19067168.0</td>\n",
       "    </tr>\n",
       "  </tbody>\n",
       "</table>\n",
       "</div>"
      ],
      "text/plain": [
       "                          path  value value_str               starttime  \\\n",
       "0  treatments.structureversion   1.00       nan 2020-10-12 07:11:59.742   \n",
       "1            treatments.source   1.00       nan 2020-10-12 07:11:59.742   \n",
       "2             treatments.carbs   0.00       nan 2020-10-12 07:11:59.742   \n",
       "3               treatments.dia   5.00       nan 2020-10-12 07:11:59.742   \n",
       "4           treatments.insulin   0.05       nan 2020-10-12 07:11:59.742   \n",
       "\n",
       "  startdate duration  isValid timeasseconds  patient_id  \n",
       "0      None     None    False          None  19067168.0  \n",
       "1      None     None    False          None  19067168.0  \n",
       "2      None     None    False          None  19067168.0  \n",
       "3      None     None    False          None  19067168.0  \n",
       "4      None     None    False          None  19067168.0  "
      ]
     },
     "execution_count": 37,
     "metadata": {},
     "output_type": "execute_result"
    }
   ],
   "source": [
    "# Here you can apply almost every query\n",
    "\n",
    "sql_query = \"select * from open_uploaded_all limit 10;\" # change query for needs, e.g. select with where, aggregate ...\n",
    "data = database_io.query_data(sql_query)\n",
    "data"
   ]
  },
  {
   "cell_type": "code",
   "execution_count": null,
   "metadata": {},
   "outputs": [],
   "source": [
    "# Read patient wise\n",
    "\n",
    "# to make things easier, i have provided a query in the backend in data_io the whole patient.\n",
    "# The scond call gives data for patient two and so on.\n",
    "\n",
    "one_patient = database_io.read_next_patient(source='open_uploaded_all', limit_patients=1)\n",
    "one_patient\n",
    "\n",
    "#next_patient = database_io.read_next_patient(source='open_uploaded_all', limit_patients=1)\n",
    "#next_patient\n",
    "\n",
    "# if there is no more patient we will get an empty frame back"
   ]
  },
  {
   "cell_type": "code",
   "execution_count": null,
   "metadata": {},
   "outputs": [],
   "source": [
    "# columns: path,value,value_str,starttime,startdate,duration,isValid,timeasseconds,patient_id"
   ]
  },
  {
   "cell_type": "code",
   "execution_count": 36,
   "metadata": {},
   "outputs": [
    {
     "data": {
      "text/plain": [
       "{'apsdata.iobdata.iob': 'iob',\n",
       " 'devicestatus.openaps.enacted.iob': 'iob',\n",
       " 'devicestatus.openaps.iob.iob': 'iob',\n",
       " 'entries.glucose': 'sensorglucose',\n",
       " 'apsdata.glucosestatus.glucose': 'sensorglucose',\n",
       " 'treatments.glucose': 'sensorglucose',\n",
       " 'entries.sgv': 'sensorglucosevalue',\n",
       " 'bgreadings.value': 'sensorglucosevalue'}"
      ]
     },
     "execution_count": 36,
     "metadata": {},
     "output_type": "execute_result"
    }
   ],
   "source": [
    "data_paths = file_io.load_json(file=setup.config.files.data_paths)\n",
    "data_paths"
   ]
  },
  {
   "cell_type": "code",
   "execution_count": null,
   "metadata": {},
   "outputs": [],
   "source": [
    "test_query = \"\"\"\n",
    "CREATE MATERIALIZED VIEW mv_renamed_data\n",
    "AS\n",
    "SELECT\n",
    "    CASE WHEN path = 'apsdata.iobdata.iob' THEN 'iob'\n",
    "        WHEN path = 'devicestatus.openaps.enacted.iob' THEN 'iob'\n",
    "        WHEN path = 'devicestatus.openaps.iob.iob' THEN 'iob'\n",
    "        WHEN path = 'entries.glucose' THEN 'sensorglucose'\n",
    "        WHEN path = 'apsdata.glucosestatus.glucose' THEN 'sensorglucose'\n",
    "        WHEN path = 'treatments.glucose' THEN 'sensorglucose'\n",
    "        WHEN path = 'entries.sgv' THEN 'sensorglucosevalue'\n",
    "        WHEN path = 'bgreadings.value' THEN 'sensorglucosevalue'\n",
    "    END as renamed_path,\n",
    "    FIRST(value) as value,\n",
    "    FIRST(value_str) as value_str,\n",
    "    FIRST(starttime) as starttime,\n",
    "    FIRST(startdate) as startdate,\n",
    "    FIRST(duration) as duration,\n",
    "    FIRST(isValid) as isValid,\n",
    "    FIRST(timeasseconds) as timeasseconds,\n",
    "    patient_id\n",
    "FROM table\n",
    "WHERE path IN ('apsdata.iobdata.iob', \n",
    "               'devicestatus.openaps.enacted.iob', \n",
    "               'devicestatus.openaps.iob.iob', \n",
    "               'entries.glucose', \n",
    "               'apsdata.glucosestatus.glucose', \n",
    "               'treatments.glucose', \n",
    "               'entries.sgv', \n",
    "               'bgreadings.value')\n",
    "GROUP BY patient_id, starttime;\n",
    "\"\"\""
   ]
  },
  {
   "cell_type": "code",
   "execution_count": null,
   "metadata": {},
   "outputs": [],
   "source": [
    "# TODO\n",
    "# 1. Read patient wise and filter therby for the required_paths\n",
    "# 2. afterwards rename the paths by the choosen identifier, if no identifier is selected keep the name\n",
    "# 3. pivot the table, only one name for column, write additionaly entry in new line\n",
    "# 4. aggregate same time intervals\n",
    "# 5. Optional: Aggregation for a defined sample size, e.g. hourly"
   ]
  }
 ],
 "metadata": {
  "kernelspec": {
   "display_name": "csp",
   "language": "python",
   "name": "csp"
  },
  "language_info": {
   "codemirror_mode": {
    "name": "ipython",
    "version": 3
   },
   "file_extension": ".py",
   "mimetype": "text/x-python",
   "name": "python",
   "nbconvert_exporter": "python",
   "pygments_lexer": "ipython3",
   "version": "3.7.7"
  },
  "orig_nbformat": 4
 },
 "nbformat": 4,
 "nbformat_minor": 2
}
